{
 "cells": [
  {
   "cell_type": "code",
   "execution_count": 1,
   "id": "strange-package",
   "metadata": {},
   "outputs": [
    {
     "name": "stdout",
     "output_type": "stream",
     "text": [
      "7\n"
     ]
    }
   ],
   "source": [
    "print(3+4\n",
    "     )"
   ]
  },
  {
   "cell_type": "code",
   "execution_count": 6,
   "id": "accurate-hindu",
   "metadata": {},
   "outputs": [
    {
     "name": "stdout",
     "output_type": "stream",
     "text": [
      "kittu,kittu dave\n"
     ]
    }
   ],
   "source": [
    "def my_function(name=\"\"):\n",
    "    return name\n",
    "print(my_function(\"kittu\"),end=\",\")\n",
    "print(my_function(\"kittu dave\"))"
   ]
  },
  {
   "cell_type": "code",
   "execution_count": null,
   "id": "unexpected-smile",
   "metadata": {},
   "outputs": [],
   "source": []
  }
 ],
 "metadata": {
  "kernelspec": {
   "display_name": "Python 3",
   "language": "python",
   "name": "python3"
  },
  "language_info": {
   "codemirror_mode": {
    "name": "ipython",
    "version": 3
   },
   "file_extension": ".py",
   "mimetype": "text/x-python",
   "name": "python",
   "nbconvert_exporter": "python",
   "pygments_lexer": "ipython3",
   "version": "3.8.5"
  }
 },
 "nbformat": 4,
 "nbformat_minor": 5
}
